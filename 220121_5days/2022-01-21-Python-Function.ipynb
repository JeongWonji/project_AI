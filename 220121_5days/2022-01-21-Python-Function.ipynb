{
 "cells": [
  {
   "cell_type": "code",
   "execution_count": null,
   "id": "62341d89",
   "metadata": {},
   "outputs": [],
   "source": [
    "'''\n",
    "function\n",
    "자주 사용되는 기능을 하나의 코드블럭(함수)로 작성한 후 \n",
    "함수이름으로 호출해서 기능을 사용\n",
    "y(x) = 2x + 5\n",
    "y(3) = 11\n",
    "'''"
   ]
  },
  {
   "cell_type": "code",
   "execution_count": null,
   "id": "1fb083f3",
   "metadata": {},
   "outputs": [],
   "source": [
    "'''\n",
    "Python의 함수(function)\n",
    "크게 2가지 종류\n",
    "\n",
    "1. 내장함수 : python이 이미 가지고 있는 함수\n",
    "                print(), type(), id(), len(), ....\n",
    "                많이 알수록 도움\n",
    "                int(), list(), tuple, range()\n",
    "                \n",
    "2. 사용자 정의 함수(user define function)\n",
    "직접 함수를 만들어 사용하는 방법\n",
    "'''"
   ]
  },
  {
   "cell_type": "code",
   "execution_count": null,
   "id": "f4eb62a6",
   "metadata": {},
   "outputs": [],
   "source": [
    "'''\n",
    "먼저 사용자 정의 함수부터 알아보자\n",
    "어떻게 만드나?\n",
    "함수를 만들때는 특수한 키워드를 이용 => def\n",
    "'''"
   ]
  },
  {
   "cell_type": "code",
   "execution_count": 7,
   "id": "15d81e32",
   "metadata": {},
   "outputs": [
    {
     "name": "stdout",
     "output_type": "stream",
     "text": [
      "30\n",
      "<class 'function'>\n",
      "<function my_sum at 0x00000255FB6E6DC0>\n",
      "300\n"
     ]
    }
   ],
   "source": [
    "'''\n",
    "식별자 : 변수명, 함수명, ...\n",
    "함수명을 정할 때 변수명을 정할때와 비슷한 규칙이 적용\n",
    "키워드x, 한글x, 숫자로 시작x, 여러단어로 되어있는 함수=> _\n",
    "대문자 이용 가능? 일반적으로 소문자로 만듦\n",
    "기존에 존재하는 키워드, 함수명을 사용하면 안돼\n",
    "일반적으로 단일 단어로 되어 있는 함수는 사용하지 않음\n",
    "함수는 인자라는걸 받아들이삼\n",
    "y(a, b, c) = 2a +3b + 4c + 100\n",
    "인자 => parameter\n",
    "return은 함수를 호출한 곳으로 결과값을 전달하는 역할\n",
    "그리고 함수호출을 종료하는 역할\n",
    "'''\n",
    "#return이 나오거나 코드블록이 끝나면 함수 실행 종료\n",
    "def my_sum(a, b):      # a, b : format parameter(형식 인자)\n",
    "    result = a + b\n",
    "    return result\n",
    "\n",
    "# 이렇게 만든 함수를 call(호출)\n",
    "aa = my_sum(10, 20) # 10, 20 : actual parameter(실인자)\n",
    "print(aa)\n",
    "\n",
    "print(type(my_sum))   \n",
    "print(my_sum)           # <function my_sum at 0x00000255FB6E6310>\n",
    "print(my_sum(100,200))  # ()의 의미는 변수가 가리키는 함수객체의 코드를 실행"
   ]
  },
  {
   "cell_type": "code",
   "execution_count": 10,
   "id": "2b0d274a",
   "metadata": {},
   "outputs": [
    {
     "name": "stdout",
     "output_type": "stream",
     "text": [
      "100\n"
     ]
    }
   ],
   "source": [
    "# 사용자 정의 함수의 여러가지 형태(특징)\n",
    "# 만약 인자의 개수에 상관없이 함수를 사용하려면? \n",
    "\n",
    "# *args => 함수로 전달되는 인자를 tuple로 받아라\n",
    "# args => ()   //args는 임의로 정해준 문자. aaa도 가능\n",
    "# args => (10, 20, 30, 40, 50)\n",
    "\n",
    "def my_sum(*args):      #인자를 튜플로 받으란 소리  \n",
    "    result = 0\n",
    "    for tmp in args:\n",
    "        result += tmp\n",
    "    return result\n",
    "\n",
    "print(my_sum(10, 20, 30, 40))"
   ]
  },
  {
   "cell_type": "code",
   "execution_count": 12,
   "id": "964f75ce",
   "metadata": {},
   "outputs": [
    {
     "name": "stdout",
     "output_type": "stream",
     "text": [
      "30 200\n"
     ]
    }
   ],
   "source": [
    "'''\n",
    "python의 함수는 여러개의 값을 리턴할수 없다\n",
    "프로그래밍 언어의 함수는 무조건 1개의 값만 return\n",
    "tuple은 괄호를 생략할수 있다.\n",
    "'''\n",
    "\n",
    "def my_sum(a,b):\n",
    "    result1 = a + b\n",
    "    result2 = a * b\n",
    "    return result1, result2     # 가능. 문법적으로 오류없음. 얘 튜플임\n",
    "\n",
    "aa, bb = my_sum(10,20)\n",
    "print(aa, bb)\n"
   ]
  },
  {
   "cell_type": "code",
   "execution_count": 16,
   "id": "ba6a5f22",
   "metadata": {},
   "outputs": [
    {
     "name": "stdout",
     "output_type": "stream",
     "text": [
      "103\n",
      "6\n"
     ]
    }
   ],
   "source": [
    "'''\n",
    "default parameter\n",
    "default parameter는 반드시 맨 마지막 parameter에만 나올수 있다.\n",
    "\n",
    "#이렇게 하면 오류남~\n",
    "def my_sum(a, b=100, c):\n",
    "    return 100     #SyntaxError: non-default argument follows default argument\n",
    "'''\n",
    "def my_sum(a, b, c=100):\n",
    "    return a + b + c\n",
    "\n",
    "print(my_sum(1,2))   #3번째 인자는 이미 값이 있어서 인자 2개만 주면 됨\n",
    "print(my_sum(1,2,3)) #내가 사용을 안하면 기본적으로 지정된값을 사용하게 함\n",
    "                     #그게 default parameter임\n"
   ]
  },
  {
   "cell_type": "code",
   "execution_count": 20,
   "id": "c86321fb",
   "metadata": {},
   "outputs": [
    {
     "name": "stdout",
     "output_type": "stream",
     "text": [
      "10 [10]\n",
      "10 [10, 100]\n"
     ]
    }
   ],
   "source": [
    "'''\n",
    "mutable(가변의) vs immutable(불변의)\n",
    "call-by-value, call-by-reference\n",
    "immutable(불변의) => call-by-value\n",
    "mutable(가변의) => call-by-reference\n",
    "'''\n",
    "def my_sum(tmp_number, tmp_list):\n",
    "    tmp_number += 100\n",
    "    tmp_list.append(100)\n",
    "    \n",
    "data_x = 10\n",
    "data_list = [10]\n",
    "\n",
    "print(data_x, data_list)   # 10 [10]\n",
    "\n",
    "my_sum(data_x, data_list)  # 함수호출\n",
    "\n",
    "print(data_x, data_list)   # 10 [10, 100]"
   ]
  },
  {
   "cell_type": "code",
   "execution_count": 22,
   "id": "d05a0176",
   "metadata": {},
   "outputs": [
    {
     "name": "stdout",
     "output_type": "stream",
     "text": [
      "110\n"
     ]
    }
   ],
   "source": [
    "# local variable & global variable\n",
    "# scope (식별자를 찾을 수 있는 영역)\n",
    "'''\n",
    "tmp = 100           # memory영역에 존재\n",
    "\n",
    "def my_func(x):     # stack안에서 실행\n",
    "    tmp = tmp + x   # tmp를 찾을수 없음. tmp값이 없기 때문에 누적 불가능한\n",
    "    return tmp\n",
    "'''\n",
    "tmp = 100          \n",
    "\n",
    "def my_func(x):    \n",
    "    global tmp\n",
    "    tmp = tmp + x  \n",
    "    return tmp\n",
    "\n",
    "print(my_func(10))\n",
    "\n",
    "# 이렇게 global keyword를 사용하면 외부 영역에 있는 변수 사용 가능\n",
    "# 좋은 방법인가? NO~~~~~~~~~\n",
    "# 편한 방법이긴 하나 유지보수측에서 안좋은 방법이라 지양함\n"
   ]
  },
  {
   "cell_type": "code",
   "execution_count": null,
   "id": "74c47e31",
   "metadata": {},
   "outputs": [],
   "source": [
    "'''\n",
    "python 객체지향\n",
    "class -> 객체모델링의 수단\n",
    "'''"
   ]
  },
  {
   "cell_type": "code",
   "execution_count": null,
   "id": "d574834d",
   "metadata": {},
   "outputs": [],
   "source": [
    "# 1명의 학생 정보(이름, 학과, 학번, 성적)를 프로그램적으로 저장\n",
    "\n",
    "student_name = '아이유'\n",
    "student_dept = '철학과'\n",
    "student_number = '20001122'  # 문자열로 할지 숫자로 할지\n",
    "                            # 직접적인 수학적 연산이 수행되면 숫자 아니면 문자\n",
    "                            # 문자가 프로그래밍에 쉬움\n",
    "student_grade = 3.5\n",
    "\n",
    "# 3명의 학생정보를 프로그램적으로 저장\n",
    "# 위 표현x3으로 표현하는것보다는 나은표현이지만 각 인덱스의 값이 같은\n",
    "# 그게 1사람의 정보라는 데이터는 코드에 명시되지 않음\n",
    "student_name = ['아이유', '김연아', '신사임당']\n",
    "student_dept = ['철학과', '컴퓨터', '영어영문']\n",
    "student_number = ['20001122', '20001123', '20001124']\n",
    "student_grade = [3.5, 4.5, 1.5]\n",
    "\n",
    "#####################################################\n",
    "\n",
    "# user define class의 이름은 관용적으로 대문자로 시작\n",
    "class Student(object):\n",
    "    \n",
    "    # 특별한 함수를 하나 정의할거다. 이름이 이미 정해져있다.\n",
    "    def __init__(self, stu_name, stu_dept, stu_number, stu_grade)\n",
    "    #self 는 특수한 의미. 이미하는 일이 정의되어있음. 나머지 호출.\n",
    "        self.student_name = stu_name\n",
    "        self.student_dept = stu_dept\n",
    "        self.student_number = stu_number\n",
    "        self.student_grade = stu_grade\n",
    "        \n",
    "stu1 = Student('아이유', '철학과', '20001122', 3.5)\n",
    "stu2 = Student('김연아', '컴퓨터', '20001123', 4.5)\n",
    "stu3 = Student('신사임당', '영어영문', '20001124', 1.5)\n"
   ]
  }
 ],
 "metadata": {
  "kernelspec": {
   "display_name": "Python [conda env:data_env] *",
   "language": "python",
   "name": "conda-env-data_env-py"
  },
  "language_info": {
   "codemirror_mode": {
    "name": "ipython",
    "version": 3
   },
   "file_extension": ".py",
   "mimetype": "text/x-python",
   "name": "python",
   "nbconvert_exporter": "python",
   "pygments_lexer": "ipython3",
   "version": "3.8.12"
  }
 },
 "nbformat": 4,
 "nbformat_minor": 5
}
