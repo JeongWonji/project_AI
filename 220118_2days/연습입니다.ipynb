{
 "cells": [
  {
   "cell_type": "code",
   "execution_count": null,
   "id": "d224957c",
   "metadata": {},
   "outputs": [],
   "source": [
    "#phthon의 특징\n",
    "\n",
    "#쉽고 간결하다\n",
    "#데이터분석에 유용한 라이브러리가 많다\n",
    "#R에 비해서 범용적인 언어\n",
    "#무료 (Open Source)\n",
    "#현재 가장 인기 있는 언어\n",
    "#하위 호환성이 없다 2.x버전과 3.x버전 호환이 안됨"
   ]
  },
  {
   "cell_type": "code",
   "execution_count": 1,
   "id": "970d7bf6",
   "metadata": {},
   "outputs": [
    {
     "name": "stdout",
     "output_type": "stream",
     "text": [
      "Hello World\n",
      "안녕하세요!!\n"
     ]
    }
   ],
   "source": [
    "# cell(셀)\n",
    "# cell안의 코드를 실행시키려면 ctrl + enter\n",
    "print('Hello World')\n",
    "print('안녕하세요!!')\n",
    "#만약 새로운 cell을 만드려면 ..above, below"
   ]
  },
  {
   "cell_type": "code",
   "execution_count": 2,
   "id": "26e18d60",
   "metadata": {},
   "outputs": [
    {
     "name": "stdout",
     "output_type": "stream",
     "text": [
      "이것은 소리없는 아우성!!\n"
     ]
    }
   ],
   "source": [
    "#b key를 누르면 cell이 아래쪽에 만들어져요\n",
    "print('이것은 소리없는 아우성!!')\n",
    "\n",
    "#cell을 삭제할때는 delete의 d를 두번입력하시면 지워져요"
   ]
  },
  {
   "cell_type": "code",
   "execution_count": null,
   "id": "b14c1b49",
   "metadata": {},
   "outputs": [],
   "source": []
  }
 ],
 "metadata": {
  "kernelspec": {
   "display_name": "Python [conda env:data_env] *",
   "language": "python",
   "name": "conda-env-data_env-py"
  },
  "language_info": {
   "codemirror_mode": {
    "name": "ipython",
    "version": 3
   },
   "file_extension": ".py",
   "mimetype": "text/x-python",
   "name": "python",
   "nbconvert_exporter": "python",
   "pygments_lexer": "ipython3",
   "version": "3.8.12"
  }
 },
 "nbformat": 4,
 "nbformat_minor": 5
}
