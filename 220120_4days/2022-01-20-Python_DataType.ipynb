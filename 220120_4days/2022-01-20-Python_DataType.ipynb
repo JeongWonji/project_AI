{
 "cells": [
  {
   "cell_type": "code",
   "execution_count": null,
   "id": "611c929e",
   "metadata": {},
   "outputs": [],
   "source": [
    "'''\n",
    "Python의 built-in data type 범주\n",
    "1. Numeric Type\n",
    "   - <class int> : 정수\n",
    "   - <class float> : 실수\n",
    "2. Sequeunce Type\n",
    "   - <class list> : []\n",
    "   - <class tuple> : ()\n",
    "   - <class range>\n",
    "3. Text Sequence Type\n",
    "   - <class str>\n",
    "4. Mapping\n",
    "   - <class dict>\n",
    "5. Set\n",
    "6. Bool\n",
    "'''"
   ]
  },
  {
   "cell_type": "code",
   "execution_count": null,
   "id": "3962b56a",
   "metadata": {},
   "outputs": [],
   "source": [
    "'''\n",
    "Sequence\n",
    "- <class list>\n",
    "- <class tuple>\n",
    "여러개의 데이터를 방을 이용해서 저장하는 자료구조\n",
    "실제 데이터를 가지고 있음\n",
    "'''"
   ]
  },
  {
   "cell_type": "code",
   "execution_count": 7,
   "id": "8123ca07",
   "metadata": {},
   "outputs": [
    {
     "name": "stdout",
     "output_type": "stream",
     "text": [
      "range(0, 10)\n",
      "range(0, 10)\n",
      "range(4, 100, 2)\n",
      "True\n",
      "11\n",
      "range(15, 20)\n"
     ]
    }
   ],
   "source": [
    "'''\n",
    "- <class range>\n",
    "숫자만 해당. 실제 데이터를 가지고 있지 않음\n",
    "\n",
    "a = range(초기값, 마지막값, 증가값)\n",
    "'''\n",
    "a = range(0, 10, 1)    # 0,1,2,3,4....9\n",
    "print(a)\n",
    "\n",
    "'''\n",
    "list, tuple같은 경우 100000개의 데이터를 가지고 있으면 실제 메모리양도\n",
    "데이터 개수만큼 많이 필요\n",
    "\n",
    "하지만 range은 실제 데이터가 아닌 데이터의 영역(range)에 대한\n",
    "의미만 저장하기 때문에 작은 메모리 공간으로 많은 데이터를 표현 가능\n",
    "'''\n",
    "# 일반적으로 아래와 같이 사용\n",
    "a = range(10)      # range(0,10, 1) 같은것\n",
    "print(a)\n",
    "a = range(4, 100, 2)\n",
    "print(a)\n",
    "\n",
    "'''\n",
    "어제 했던 여러가지 연산자 => +, -, *, /, %, //, ==, is\n",
    "많이 사용하는 새로운 연산자 하나 살펴보기\n",
    "in      안에 들어있나요? 라고 물어 보는것 (논리연산자) \n",
    "in이라는 질문의 결과는 논리값(true, false)으로밖에 못나옴\n",
    "'''\n",
    "print(6 in range(10))    # range(10)안에 6이 들어가있니? => true\n",
    "\n",
    "# indexing, slicing\n",
    "a = range(10, 50, 1)\n",
    "print(a[1])         # 11   indexingdl 가능\n",
    "print(a[5:10])      # range(15, 20)  slicing은 원본 형태를 그대로 유지"
   ]
  },
  {
   "cell_type": "code",
   "execution_count": 34,
   "id": "f9d67da9",
   "metadata": {},
   "outputs": [
    {
     "name": "stdout",
     "output_type": "stream",
     "text": [
      "HelloWorld\n",
      "HelloWorld\n",
      "t\n",
      "t\n",
      "is i\n",
      "True\n",
      "True\n",
      "THIS IS A SAMPLE TEXT\n",
      "18\n",
      "이것은 소리없는 아우성\n",
      "show me the code\n",
      "나는 바나나를 30개 가지고 있고 사과를 8개 가지고 있어요!\n",
      "바나나 개수: 30\n"
     ]
    }
   ],
   "source": [
    "'''\n",
    "문자열\n",
    "Python은 문자와 문자열을 구분하지 않아요 (다른언어는 아님)\n",
    "\n",
    "다른언어(c,java에서)\n",
    "문자 => 1글자 => 'a'\n",
    "문자열 => 1글자를 포함한 여러글자 => \"aaa\"  , \"a\"\n",
    "''(싱글코테이션) -> 문자\n",
    "\"\"(더블) -> 문자열\n",
    "\n",
    "python은 문자개념 없음. 그냥 몽땅 다 문자열\n",
    "'', \"\", 두 표현이 같은 표현. 아무거나 쓰삼\n",
    "일반적으로 문자열을 표현할 때 '' 관용적으로 이용\n",
    "a = '소리없는 아우성'\n",
    "b = 'hello world'\n",
    "\n",
    "print(type(a))   # <class 'str'>\n",
    "'''\n",
    "a = 'Hello'\n",
    "b = 'World'\n",
    "\n",
    "# + => 숫자에 데해서는 더하기 연산\n",
    "#   => list에 대해서는 concatenation\n",
    "#   => 문자열에 대해서도 concatenation\n",
    "result = a + b\n",
    "print(a + b)\n",
    "print(result)\n",
    "\n",
    "# indexing, slicing 가능\n",
    "a = 'this is a sample text'\n",
    "print(a[0])   # t\n",
    "print(a[-1])  # t\n",
    "print(a[2:6]) # is i    공백도 문자임.\n",
    "\n",
    "print('sam' in a)        # True\n",
    "print('haha' not in a)   # True\n",
    "\n",
    "# 문자열이 가지고 있는 메서드들이 있음\n",
    "a = 'this is a sample text'\n",
    "result = a.upper()     # a안에 있는 문자열을 대문자로 변환\n",
    "print(result)\n",
    "# 위의 예 처럼 상당히 많은 메소드를 가지고 있음\n",
    "\n",
    "a = '   이것은 소리없는 아우성   '\n",
    "# 1. 이 문자열의 전체 길이는 얼마인가요? 18글자\n",
    "print(len(a))\n",
    "# 2. 문자열의 앞, 뒤 공백 제거\n",
    "print(a.strip())\n",
    "\n",
    "# 3. 문자열 중 일부분을 다른 문자열로 변경하려면?\n",
    "#     money => code\n",
    "a = 'show me the money'\n",
    "print(a.replace('money', 'code'))\n",
    "\n",
    "# 4. 문자열의 일부분을 치환하는 방법\n",
    "num_banana = 30\n",
    "num_apple = 8\n",
    "a = '나는 바나나를 {}개 가지고 있고 사과를 {}개 가지고 있어요!'\n",
    "result = a.format(num_banana, num_apple)\n",
    "print(result)\n",
    "print('바나나 개수: {}'.format(num_banana))"
   ]
  },
  {
   "cell_type": "code",
   "execution_count": 47,
   "id": "afaed263",
   "metadata": {},
   "outputs": [
    {
     "name": "stdout",
     "output_type": "stream",
     "text": [
      "{'name': '홍길동', 'age': 20, 'addr': '서울'}\n",
      "<class 'dict'>\n",
      "{'name': '홍길동', 'age': 20, 'addr': '서울', 'mobile': '01033334444'}\n",
      "홍길동\n",
      "{'name': '홍길동', 'age': 30, 'addr': '서울', 'mobile': '01033334444'}\n",
      "{'name': '아이유', 'age': 30}\n",
      "{'name': '홍길동', 'age': 20, 10: '서울'}\n",
      "dict_keys(['name', 'age', 10])\n",
      "dict_values(['홍길동', 20, '서울'])\n",
      "dict_items([('name', '홍길동'), ('age', 20), (10, '서울')])\n",
      "{'name': '홍길동', 'age': 20, 10: '서울'}\n",
      "{}\n"
     ]
    }
   ],
   "source": [
    "'''\n",
    "4. Mapping\n",
    "   - <class dict>\n",
    "   \n",
    "dictionary(딕셔너리) - 명칭 , dict - 클래스 이름\n",
    "dictionary를 만들기 위해서 사용하는 class => ,<class dict>\n",
    "literal로 dictionary는 어떻게 표현하나?\n",
    "list => []\n",
    "tuple => ()\n",
    "dict => {}\n",
    "{}를 이용하고 키와 value의 쌍을 저장하는 집합자료구조\n",
    "순서가 존재하지 않음\n",
    "그러면 어떻게 여러개 데이터 저장함?\n",
    "'''\n",
    "a = {\n",
    "    'name' : '홍길동',\n",
    "    'age' : 20,\n",
    "    'addr' : '서울'\n",
    "}\n",
    "print(a)\n",
    "print(type(a))\n",
    "\n",
    "# 추가적으로 데이터를 저장하려면?\n",
    "a['mobile'] = '01033334444'\n",
    "print(a)\n",
    "# dictionary안의 값을 조회하려면\n",
    "print(a['name'])\n",
    "# 값을 수정하려면\n",
    "a['age'] = 30\n",
    "print(a)\n",
    "\n",
    "a = {\n",
    "    'name' : '아이유',\n",
    "    'age' : 20,\n",
    "    'age' : 30\n",
    "}\n",
    "#의미론적으로 맞지 않음. 코드에러는 나지 않음. 앞, 뒤 어떤것만 실행될지 모름\n",
    "print(a)\n",
    "\n",
    "a= {\n",
    "    'name' : '홍길동',\n",
    "    'age' : 20,\n",
    "}\n",
    "a[10] = '서울'  # key값을 정수로 사용\n",
    "print(a)\n",
    "\n",
    "# 키 값으로 list 사용 불가능\n",
    "# 키 값으로 tuple 사용 가능\n",
    "\n",
    "# 모든 key값을 얻어내는 메소드\n",
    "print(a.keys())    # dict_keys(['name', 'age', 10])\n",
    "                    # list인거처럼 생겼고 list처럼 사용할수 있지만 \n",
    "                    # 진짜 list는 아님. list 클래스가 아님\n",
    "                    # list의 모든 기능 사용 불가능, 조금 가능\n",
    "                    # 진짜 list 라면 => ['name', 'age'] 이렇게 출력되어야 함\n",
    "# 모든 value값을 얻어내는 메소드\n",
    "print(a.values())  #dict_values(['홍길동', 20, '서울'])\n",
    "# 모든 key와 value의 쌍을 얻어내는 메소드\n",
    "print(a.items())   #dict_items([('name', '홍길동'), ('age', 20), (10, '서울')])\n",
    "                    # key와 value를 tuple로 만들어서 리스트처럼 생성\n",
    "print(a)\n",
    "a.clear()    #몽땅 삭제\n",
    "print(a)     #{}"
   ]
  },
  {
   "cell_type": "code",
   "execution_count": 58,
   "id": "d5391431",
   "metadata": {},
   "outputs": [
    {
     "name": "stdout",
     "output_type": "stream",
     "text": [
      "{'홍길동', 20, '아이유', '서울'}\n",
      "<class 'set'>\n",
      "{'홍길동', 20, '아이유', '서울'}\n",
      "{1, 2, 3, 4}\n",
      "{1, 2, 3, 4, 5, 6, 7}\n",
      "{3, 4, 5}\n",
      "{1, 2}\n",
      "{1, 2, 3, 6}\n",
      "{1, 2, 3, 6, '안녕'}\n",
      "{1, 2, 3, 6, '안녕', (45,)}\n",
      "{1, 2, 3, 6, 7, 8, '안녕', (45,)}\n",
      "{1, 3, 6, 7, 8, '안녕', (45,)}\n"
     ]
    }
   ],
   "source": [
    "'''\n",
    "5. Set Type\n",
    "    - <calss set>\n",
    "    \n",
    "set은 주머니 개념. 순서가 없음.\n",
    "여러개의 데이터를 저장할 수 있는 집합 자료구조\n",
    "키의 개념이 없음(값만 저장)\n",
    "set안에서는 중복허용 안함\n",
    "literal => {} (dictionary와 set은 둘다 {} 사용)\n",
    "'''\n",
    "a = {'홍길동', '아이유', 20, '서울'}\n",
    "print(a)\n",
    "print(type(a))   # <class 'set'>\n",
    "\n",
    "a = {'홍길동', '아이유', 20, '서울', '서울', '아이유', '홍길동'}\n",
    "print(a)\n",
    "\n",
    "a = set([1, 2, 3, 4, 4, 4, 4])   # list(tuple)을 이용해서 set 만들수 있음\n",
    "print(a)\n",
    "\n",
    "# set의 연산 => 합집합(union), 교집합(intersection), 차집합(difference)\n",
    "\n",
    "a = set([1, 2, 3, 4, 5])\n",
    "b = set([3, 4, 5, 6, 7])\n",
    "\n",
    "# 합집합(union)\n",
    "result = a | b\n",
    "print(result)             #{1, 2, 3, 4, 5, 6, 7}\n",
    "# 교집합(intersection)\n",
    "result = a & b\n",
    "print(result)            #{3, 4, 5}\n",
    "# 차집합(difference)\n",
    "result = a - b\n",
    "print(result)            #{1, 2}\n",
    "\n",
    "# set에 데이터 추가하려면?\n",
    "a = {1, 2, 3}\n",
    "a.add(6)\n",
    "print(a)\n",
    "a.add('안녕')\n",
    "print(a)\n",
    "a.add((45,)) #한개짜리 튜플 넣기\n",
    "print(a)\n",
    "# list랑 map은 못넣음\n",
    "# add는 1개만 추가, update는 여러개 추가\n",
    "a.update([6, 7, 8])  #list추가가 아닌 리스트 안의 여러개 숫자를 한번에 추가하는거임\n",
    "print(a)\n",
    "\n",
    "#특정요소 삭제하려면\n",
    "a.remove(2)\n",
    "print(a)"
   ]
  },
  {
   "cell_type": "code",
   "execution_count": 61,
   "id": "148eb5bd",
   "metadata": {},
   "outputs": [
    {
     "name": "stdout",
     "output_type": "stream",
     "text": [
      "False\n",
      "True\n",
      "True\n",
      "False\n",
      "False\n"
     ]
    }
   ],
   "source": [
    "'''\n",
    "6. Bool Type\n",
    "    - <calss bool>\n",
    "\n",
    "True, False\n",
    "연산자는 and, or, not 연산\n",
    "'''\n",
    "print(True and False)\n",
    "print(True and True)\n",
    "print(True or False)\n",
    "print(not True)\n",
    "\n",
    "'''\n",
    "기억해야 될 사항\n",
    "다음의 값들은 모두 False로 간주\n",
    "    빈 문자열 ('')empty string - (' ')이거는 공백이라는 문자가 들어간거임\n",
    "    [], (), {}, 숫자0(모든숫자중에 0만 false), None\n",
    "'''\n",
    "print(bool('' and True))"
   ]
  },
  {
   "cell_type": "code",
   "execution_count": null,
   "id": "d5753bce",
   "metadata": {},
   "outputs": [],
   "source": [
    "'''\n",
    "여기까지 python이 제공하는 기본 데이터 타입(자료구조포함)에 대해 알아봤다\n",
    "'''"
   ]
  },
  {
   "cell_type": "code",
   "execution_count": 62,
   "id": "f8c64c52",
   "metadata": {},
   "outputs": [
    {
     "name": "stdout",
     "output_type": "stream",
     "text": [
      "haha\n"
     ]
    }
   ],
   "source": [
    "'''\n",
    "제어문 - if\n",
    "논리값을 기반으로 실행코드의 분기를 시키는 제어문\n",
    "python은 코드블럭을 표현하기 위해 {}을 사용하지 않음\n",
    "코드블럭 표현할라고 identation(들여쓰기)-4칸 들여쓰기\n",
    "'''\n",
    "if 20 > 30 :\n",
    "    print('Hello')\n",
    "else :\n",
    "    print('haha')\n",
    "    "
   ]
  },
  {
   "cell_type": "code",
   "execution_count": 68,
   "id": "cf29f926",
   "metadata": {},
   "outputs": [
    {
     "name": "stdout",
     "output_type": "stream",
     "text": [
      "1\n",
      "2\n",
      "3\n",
      "4\n",
      "5\n",
      "ㅡㅡㅡㅡㅡㅡㅡㅡㅡㅡㅡ\n",
      "안녕\n",
      "안녕\n",
      "안녕\n",
      "안녕\n",
      "안녕\n",
      "안녕\n",
      "안녕\n",
      "안녕\n",
      "안녕\n",
      "안녕\n"
     ]
    }
   ],
   "source": [
    "# for statement(반복문)\n",
    "# 반복할 횟수를 일반적으로 알고 있을 때(10번반복)\n",
    "# 내가 가지고 있는 자료구조의 데이터 수만큼 반복할 때\n",
    "a = [1, 2, 3, 4, 5]\n",
    "\n",
    "for kk in a :\n",
    "    print(kk)\n",
    "    if kk == 5 :\n",
    "        print(\"ㅡㅡㅡㅡㅡㅡㅡㅡㅡㅡㅡ\")\n",
    "    \n",
    "for kk in range(10) :\n",
    "    print('안녕')"
   ]
  },
  {
   "cell_type": "code",
   "execution_count": 72,
   "id": "94fcf1f5",
   "metadata": {},
   "outputs": [
    {
     "name": "stdout",
     "output_type": "stream",
     "text": [
      "하하\n",
      "하하\n",
      "하하\n",
      "하하\n",
      "하하\n",
      "하하\n",
      "하하\n",
      "하하\n",
      "하하\n",
      "하하\n",
      "끝났어요\n"
     ]
    }
   ],
   "source": [
    "# while statement(반복문)\n",
    "# 조건에 따라서 반복을 지속하고 싶을때\n",
    "\n",
    "a = 0\n",
    "while a < 10 :\n",
    "    print('하하')\n",
    "    a = a + 1\n",
    "    \n",
    "print('끝났어요')"
   ]
  },
  {
   "cell_type": "code",
   "execution_count": 75,
   "id": "5e50500d",
   "metadata": {},
   "outputs": [
    {
     "name": "stdout",
     "output_type": "stream",
     "text": [
      "aa\n",
      "aa\n",
      "aa\n",
      "aa\n",
      "aa\n",
      "호호호\n"
     ]
    }
   ],
   "source": [
    "# break 구문\n",
    "# 반복문에서 사용되고 break를 만나면 가장 가까운 반복문을 탈출\n",
    "\n",
    "a = 0\n",
    "\n",
    "while True:\n",
    "    print('aa')\n",
    "    a = a + 1\n",
    "    if a == 5:\n",
    "        break\n",
    "    \n",
    "print('호호호')"
   ]
  },
  {
   "cell_type": "code",
   "execution_count": 86,
   "id": "1dfc135a",
   "metadata": {},
   "outputs": [
    {
     "name": "stdout",
     "output_type": "stream",
     "text": [
      "233168\n"
     ]
    }
   ],
   "source": [
    "# 간단한 프로그래밍 연습\n",
    "\n",
    "'''\n",
    "문제 1.\n",
    "1000보다 작은 자연수 중에서 3 또는 5의 배수들을 모두 구해서 모두 합해라\n",
    "'''\n",
    "result = 0\n",
    "for i in range(1000):\n",
    "    if i % 3 == 0 or i % 5 == 0:\n",
    "        result += i\n",
    "print(result)"
   ]
  },
  {
   "cell_type": "code",
   "execution_count": null,
   "id": "318f7573",
   "metadata": {},
   "outputs": [],
   "source": [
    "'''\n",
    "기본, 기반이되는 능력은 문제해결능력\n",
    "문제해결을 위해 머리속에서 생각되는 내용을 코드로 표현해야한다 => 코딩\n",
    "코딩교육 -> 논리적인 사고\n",
    "\n",
    "프로그래머스, 백준, 삼성SW Expert 아카데미\n",
    "'''"
   ]
  },
  {
   "cell_type": "code",
   "execution_count": 4,
   "id": "9fd449a7",
   "metadata": {},
   "outputs": [
    {
     "name": "stdout",
     "output_type": "stream",
     "text": [
      "4613732\n"
     ]
    }
   ],
   "source": [
    "'''\n",
    "문제 2\n",
    "피보나치 수열의 각 항은 바로 앞의 항 두개를 더한 것이 됩니다.\n",
    "1과 2로 시작하는 경우 이 수열은 아래와 같습니다.\n",
    "\n",
    "1, 2, 3, 5, 8, 13, 21, 34, 55, 89 ...\n",
    "짝수이면서 400만 이하인 모든 항을 더하면 얼마가 될까요\n",
    "'''\n",
    "# a = 1\n",
    "# b = 1\n",
    "# d = []\n",
    "# while c < 4000000:\n",
    "#     c = a + b\n",
    "#     d.append(c)\n",
    "#     a = b\n",
    "#     b = c\n",
    "# for i in d:\n",
    "#     if i % 2 == 0:\n",
    "#         e += i\n",
    "# print(e)\n",
    "# 위 코드 돌리면 컴터 터짐 \n",
    "\n",
    "[a, b] = [1, 1]\n",
    "[c, e] =[0, 0]\n",
    "while a + b < 4000000:\n",
    "    c = a + b\n",
    "    if (c % 2 == 0):\n",
    "        e += c\n",
    "    a = b\n",
    "    b = c\n",
    "print(e)\n"
   ]
  },
  {
   "cell_type": "code",
   "execution_count": null,
   "id": "c62ec43a",
   "metadata": {},
   "outputs": [],
   "source": []
  }
 ],
 "metadata": {
  "kernelspec": {
   "display_name": "Python 3 (ipykernel)",
   "language": "python",
   "name": "python3"
  },
  "language_info": {
   "codemirror_mode": {
    "name": "ipython",
    "version": 3
   },
   "file_extension": ".py",
   "mimetype": "text/x-python",
   "name": "python",
   "nbconvert_exporter": "python",
   "pygments_lexer": "ipython3",
   "version": "3.9.7"
  }
 },
 "nbformat": 4,
 "nbformat_minor": 5
}
