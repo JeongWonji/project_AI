{
 "cells": [
  {
   "cell_type": "code",
   "execution_count": null,
   "id": "24556957",
   "metadata": {},
   "outputs": [],
   "source": [
    "# ozone데이터 사용\n",
    "\n",
    "# 1. python 구현"
   ]
  },
  {
   "cell_type": "code",
   "execution_count": 77,
   "id": "06c1c8b3",
   "metadata": {},
   "outputs": [
    {
     "name": "stdout",
     "output_type": "stream",
     "text": [
      "W : [[-0.08274606]\n",
      " [ 0.4858181 ]\n",
      " [ 0.45774588]], b:[0.12973681], loss:2748.167938163268\n",
      "W : [[1.71272038e+12]\n",
      " [1.71272038e+12]\n",
      " [1.71272038e+12]], b:[3.50386827e+10], loss:4.72483235277104e+28\n",
      "W : [[1.71272038e+12]\n",
      " [1.71272038e+12]\n",
      " [1.71272038e+12]], b:[3.50386827e+10], loss:4.72483235277104e+28\n",
      "W : [[1.71272038e+12]\n",
      " [1.71272038e+12]\n",
      " [1.71272038e+12]], b:[3.50386827e+10], loss:4.72483235277104e+28\n",
      "W : [[1.71272038e+12]\n",
      " [1.71272038e+12]\n",
      " [1.71272038e+12]], b:[3.50386827e+10], loss:4.72483235277104e+28\n",
      "W : [[1.71272038e+12]\n",
      " [1.71272038e+12]\n",
      " [1.71272038e+12]], b:[3.50386827e+10], loss:4.72483235277104e+28\n",
      "W : [[1.71272038e+12]\n",
      " [1.71272038e+12]\n",
      " [1.71272038e+12]], b:[3.50386827e+10], loss:4.72483235277104e+28\n",
      "W : [[1.71272038e+12]\n",
      " [1.71272038e+12]\n",
      " [1.71272038e+12]], b:[3.50386827e+10], loss:4.72483235277104e+28\n",
      "W : [[1.71272038e+12]\n",
      " [1.71272038e+12]\n",
      " [1.71272038e+12]], b:[3.50386827e+10], loss:4.72483235277104e+28\n",
      "W : [[1.71272038e+12]\n",
      " [1.71272038e+12]\n",
      " [1.71272038e+12]], b:[3.50386827e+10], loss:4.72483235277104e+28\n"
     ]
    }
   ],
   "source": [
    "import numpy as np\n",
    "import pandas as pd\n",
    "import matplotlib.pyplot as plt\n",
    "from scipy import stats\n",
    "\n",
    "def numerical_derivative(f,x):    # x : ndarray [1.0  2.0]\n",
    "    \n",
    "    delta_x = 1e-4\n",
    "    derivative_x = np.zeros_like(x)   # derivative_x : [0.0  0.0]\n",
    "    \n",
    "    # iterator를 이용해서 입력변수 x에 대한 편미분을 수행!\n",
    "    it = np.nditer(x, flags=['multi_index'])\n",
    "    \n",
    "    while not it.finished:\n",
    "        \n",
    "        idx = it.multi_index \n",
    "        tmp = x[idx]              # tmp : 1.0\n",
    "        \n",
    "        x[idx] = tmp + delta_x    # x : ndarray [1.0001  2.0]\n",
    "        fx_plus_delta = f(x)\n",
    "        \n",
    "        x[idx] = tmp - delta_x    # x : ndarray [0.9999  2.0]  \n",
    "        fx_minus_delta = f(x)\n",
    "        \n",
    "        derivative_x[idx] = (fx_plus_delta - fx_minus_delta) / (2 * delta_x)\n",
    "        \n",
    "        x[idx] = tmp              #  x : ndarray [1.0  2.0]  \n",
    "        it.iternext()\n",
    "        \n",
    "    return derivative_x\n",
    "\n",
    "# Raw Data Set Loading\n",
    "df = pd.read_csv('./data/ozone.csv')\n",
    "training_data = df[['Ozone', 'Solar.R', 'Wind' ,'Temp']]\n",
    "\n",
    "# 결치값을 삭제\n",
    "training_data.dropna(how='any',\n",
    "                     inplace=True)   # how='any' : 결치가 존재하는 행을 삭제\n",
    "\n",
    "# 데이터에 이상치가 있는지 확인하고 제거\n",
    "zscore_threshold = 2.0\n",
    "outlier = training_data['Ozone'][(np.abs(stats.zscore(training_data['Ozone'])) > zscore_threshold)]\n",
    "training_data = training_data.loc[np.isin(training_data['Ozone'],outlier, invert=True)]\n",
    "\n",
    "# Training Data Set\n",
    "x_data = training_data.drop('Ozone', axis=1, inplace=False)\n",
    "t_data = training_data['Ozone'].values.reshape(-1,1)\n",
    "\n",
    "# Weight, bias\n",
    "W = np.random.rand(3,1)\n",
    "b = np.random.rand(1)\n",
    "\n",
    "# loss function\n",
    "def loss_func(input_data):\n",
    "    W = input_data[0]\n",
    "    b = input_data[1]\n",
    "    \n",
    "    y = np.dot(x_data,W) + b\n",
    "    return np.mean(np.power(t_data-y,2))\n",
    "\n",
    "# predict\n",
    "def predict(x):\n",
    "    y = np.dot(x,W) + b\n",
    "    return y\n",
    "\n",
    "# learning_rate\n",
    "learning_rate = 1e-4\n",
    "\n",
    "# 반복 학습\n",
    "for step in range(300000):\n",
    "    \n",
    "    input_param = np.concatenate((W.ravel(), b.ravel()), axis=0)  # [W b]\n",
    "    derivative_result = learning_rate * numerical_derivative(loss_func, input_param)\n",
    "\n",
    "    W = W - derivative_result[0].reshape(1,1)\n",
    "    b = b - derivative_result[1]\n",
    "    \n",
    "    if step % 30000 == 0:\n",
    "        input_param = np.concatenate((W.ravel(), b.ravel()), axis=0)\n",
    "        print('W : {}, b:{}, loss:{}'.format(W, b, loss_func(input_param)))\n"
   ]
  },
  {
   "cell_type": "code",
   "execution_count": 78,
   "id": "d399e915",
   "metadata": {},
   "outputs": [
    {
     "name": "stdout",
     "output_type": "stream",
     "text": [
      "오존량 : [[6.0445406e+14]]\n"
     ]
    }
   ],
   "source": [
    "# 학습종료 후 예측\n",
    "predict_data = predict(np.array([[274, 10.9, 68]]))\n",
    "print('오존량 : {}'.format(predict_data)) "
   ]
  },
  {
   "cell_type": "code",
   "execution_count": null,
   "id": "c3e40cff",
   "metadata": {},
   "outputs": [],
   "source": [
    "# 2. tensorflow 구현"
   ]
  },
  {
   "cell_type": "code",
   "execution_count": 75,
   "id": "327d7507",
   "metadata": {},
   "outputs": [
    {
     "name": "stdout",
     "output_type": "stream",
     "text": [
      "W : [[0.2919028 ]\n",
      " [0.48837873]\n",
      " [0.36716276]], b : [-2.1595547], loss : 3053.418701171875\n",
      "W : [[0.05239572]\n",
      " [0.0617257 ]\n",
      " [0.44225323]], b : [-2.1727548], loss : 675.8026733398438\n",
      "W : [[ 0.05257703]\n",
      " [-0.33299652]\n",
      " [ 0.490042  ]], b : [-2.1870599], loss : 623.0198364257812\n",
      "W : [[ 0.05281532]\n",
      " [-0.6959982 ]\n",
      " [ 0.5337429 ]], b : [-2.1966984], loss : 578.3973388671875\n",
      "W : [[ 0.05303305]\n",
      " [-1.0298387 ]\n",
      " [ 0.5739188 ]], b : [-2.203851], loss : 540.66455078125\n",
      "W : [[ 0.0532665]\n",
      " [-1.3367454]\n",
      " [ 0.6107648]], b : [-2.2110035], loss : 508.763671875\n",
      "W : [[ 0.05345909]\n",
      " [-1.6190245 ]\n",
      " [ 0.64472085]], b : [-2.218156], loss : 481.7784118652344\n",
      "W : [[ 0.05362983]\n",
      " [-1.878597  ]\n",
      " [ 0.675976  ]], b : [-2.2253087], loss : 458.9566345214844\n",
      "W : [[ 0.05377683]\n",
      " [-2.1170895 ]\n",
      " [ 0.7047238 ]], b : [-2.2324612], loss : 439.6710205078125\n",
      "W : [[ 0.05394335]\n",
      " [-2.3368046 ]\n",
      " [ 0.73112917]], b : [-2.2396138], loss : 423.3312072753906\n"
     ]
    }
   ],
   "source": [
    "import tensorflow as tf\n",
    "import pandas as pd\n",
    "import numpy as np\n",
    "\n",
    "df = pd.read_csv('./data/ozone.csv')\n",
    "df = df[['Ozone','Solar.R','Wind','Temp']]\n",
    "df = df.dropna(how='any', inplace=False)\n",
    "\n",
    "#이상치 여부 확인하기\n",
    "# plt.boxplot(df[\"Solar.R\"]) \n",
    "# plt.boxplot(df[\"Temp\"]) \n",
    "# plt.boxplot(df[\"Ozone\"]) \n",
    "# plt.boxplot(df[\"Wind\"])\n",
    "\n",
    "# ozone 이상치 제거\n",
    "q1, q3 = np.percentile(df['Ozone'],[25,75]) \n",
    "iqr= q3 - q1 \n",
    "upper = q3 + iqr * 1.5 \n",
    "mask = df['Ozone'] > upper \n",
    "df = df.loc[~mask] \n",
    "\n",
    "# wind 이상치제거\n",
    "q_1, q_3 = np.percentile(df['Wind'],[25,75]) \n",
    "iqr = q_3 - q_1 \n",
    "up = q_3 + iqr * 1.5 \n",
    "mask2 = df['Wind'] > up \n",
    "df = df.loc[~mask2]\n",
    "\n",
    "x_data = df.drop('Ozone', axis=1, inplace=False)   # (25,3)\n",
    "t_data = df['Ozone'].values.reshape(-1,1)   # (25,1)\n",
    "\n",
    "X = tf.placeholder(shape=[None,3], dtype=tf.float32)\n",
    "T = tf.placeholder(shape=[None,1], dtype=tf.float32)\n",
    "\n",
    "W = tf.Variable(tf.random.normal([3,1]))\n",
    "b = tf.Variable(tf.random.normal([1]))\n",
    "\n",
    "H = tf.matmul(X,W) + b   \n",
    "\n",
    "loss = tf.reduce_mean(tf.square(H-T))\n",
    "\n",
    "train = tf.train.GradientDescentOptimizer(learning_rate=1e-7).minimize(loss)\n",
    "\n",
    "sess = tf.Session()\n",
    "sess.run(tf.global_variables_initializer())\n",
    "\n",
    "\n",
    "# 반복 학습\n",
    "for step in range(300000):\n",
    "    \n",
    "    _, W_val, b_val, loss_val = sess.run([train, W, b, loss], \n",
    "                                         feed_dict={X: x_data,\n",
    "                                                    T: t_data})\n",
    "    if step % 30000 == 0:\n",
    "        print('W : {}, b : {}, loss : {}'.format(W_val, b_val, loss_val))\n",
    "        "
   ]
  },
  {
   "cell_type": "code",
   "execution_count": 76,
   "id": "e326bcbd",
   "metadata": {},
   "outputs": [
    {
     "name": "stdout",
     "output_type": "stream",
     "text": [
      "오존량은 : [[36.270367]]\n"
     ]
    }
   ],
   "source": [
    "# Prediction\n",
    "\n",
    "result = sess.run(H, \n",
    "                  feed_dict={X: np.array([[274, 10.9, 68]])})\n",
    "print('오존량은 :', result)  "
   ]
  },
  {
   "cell_type": "code",
   "execution_count": null,
   "id": "496f61a6",
   "metadata": {},
   "outputs": [],
   "source": [
    "# 3. sklearn 구현"
   ]
  },
  {
   "cell_type": "code",
   "execution_count": 62,
   "id": "fddc220b",
   "metadata": {},
   "outputs": [
    {
     "name": "stdout",
     "output_type": "stream",
     "text": [
      "오존량은 : [23.71957907]\n"
     ]
    },
    {
     "name": "stderr",
     "output_type": "stream",
     "text": [
      "C:\\Users\\onegt\\anaconda3\\envs\\machine_TF15\\lib\\site-packages\\sklearn\\base.py:451: UserWarning: X does not have valid feature names, but LinearRegression was fitted with feature names\n",
      "  \"X does not have valid feature names, but\"\n"
     ]
    }
   ],
   "source": [
    "from sklearn import linear_model \n",
    "import numpy as np \n",
    "import pandas as pd \n",
    "\n",
    "df = pd.read_csv('./data/ozone.csv')\n",
    "df = df[['Ozone','Solar.R','Wind','Temp']]\n",
    "df = df.dropna(how='any', inplace=False)\n",
    "\n",
    "#이상치 여부 확인하기\n",
    "# plt.boxplot(df[\"Solar.R\"]) \n",
    "# plt.boxplot(df[\"Temp\"]) \n",
    "# plt.boxplot(df[\"Ozone\"]) \n",
    "# plt.boxplot(df[\"Wind\"])\n",
    "\n",
    "# ozone 이상치 제거\n",
    "q1, q3 = np.percentile(df['Ozone'],[25,75]) \n",
    "iqr= q3 - q1 \n",
    "upper = q3 + iqr * 1.5 \n",
    "mask = df['Ozone'] > upper \n",
    "df = df.loc[~mask] \n",
    "\n",
    "# wind 이상치제거\n",
    "q_1, q_3 = np.percentile(df['Wind'],[25,75]) \n",
    "iqr = q_3 - q_1 \n",
    "up = q_3 + iqr * 1.5 \n",
    "mask2 = df['Wind'] > up \n",
    "df = df.loc[~mask2]\n",
    "\n",
    "# learning data\n",
    "X = df[['Solar.R','Wind','Temp']]\n",
    "Y = df['Ozone']\n",
    "\n",
    "# learning\n",
    "model = linear_model.LinearRegression()\n",
    "model.fit(X,Y)\n",
    "\n",
    "# prediction\n",
    "prediction = model.predict([[274, 10.9, 68]])\n",
    "print('오존량은 : {}'.format(prediction))\n"
   ]
  },
  {
   "cell_type": "code",
   "execution_count": null,
   "id": "368fe225",
   "metadata": {},
   "outputs": [],
   "source": []
  }
 ],
 "metadata": {
  "kernelspec": {
   "display_name": "Python [conda env:machine_TF15] *",
   "language": "python",
   "name": "conda-env-machine_TF15-py"
  },
  "language_info": {
   "codemirror_mode": {
    "name": "ipython",
    "version": 3
   },
   "file_extension": ".py",
   "mimetype": "text/x-python",
   "name": "python",
   "nbconvert_exporter": "python",
   "pygments_lexer": "ipython3",
   "version": "3.7.13"
  }
 },
 "nbformat": 4,
 "nbformat_minor": 5
}
