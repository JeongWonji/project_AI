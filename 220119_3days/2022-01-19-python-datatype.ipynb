{
 "cells": [
  {
   "cell_type": "code",
   "execution_count": null,
   "id": "f808d47f",
   "metadata": {},
   "outputs": [],
   "source": [
    "# Python에서 사용할 수 있는 데이터 타입\n",
    "# Python에서 정해져 있는 데이터 타입 => built - in data type\n",
    "# Python의 built-in data type은 일반 data type + 자료구조 (data structure)\n",
    "\n",
    "'''\n",
    "Python의 built-in data type 범주\n",
    "1. Numeric\n",
    "   - <class int> : 정수\n",
    "   - <class float> : 실수\n",
    "2. Sequeunce\n",
    "   - <class list> : []\n",
    "   - <class tuple> : ()\n",
    "3. Text Sequence\n",
    "4. Mapping\n",
    "5. Set\n",
    "6. Bool\n",
    "'''"
   ]
  },
  {
   "cell_type": "code",
   "execution_count": null,
   "id": "9d0c4cc0",
   "metadata": {},
   "outputs": [],
   "source": [
    "# 주석\n",
    "# shift + 방향키 = 원하는 구간까지 선택\n",
    "# ctrl + / = 전체 주석\n",
    "# 여러줄 주석은 ''''''이용\n",
    "\n",
    "'''\n",
    "print('hello')\n",
    "print('이것도 주석처리해주세요!')\n",
    "a = 100\n",
    "'''"
   ]
  },
  {
   "cell_type": "code",
   "execution_count": 7,
   "id": "e2fd68df",
   "metadata": {},
   "outputs": [
    {
     "name": "stdout",
     "output_type": "stream",
     "text": [
      "200\n"
     ]
    }
   ],
   "source": [
    "# 변수\n",
    "# 변수는 특정값을 저장할 수 있는 메모리 저장 공간을 지칭\n",
    "# 변수를 어떻게 만드나요?\n",
    "\n",
    "#a = 100\n",
    "'''\n",
    "a라는 이름의 변수를 생성하고 그 안에 100이라는 값을 저장.\n",
    "그럼 변수이름은 어떻게 지어야 하나요?\n",
    "\n",
    "키워드는 변수로 사용할 수 없어요 (파이썬이 몇몇개 정해놓은 단어들)\n",
    "의미없는 이름의 변수는 사용을 지양 (변수이름을 의미있게 설정)\n",
    "변수는 숫자로 시작할수 없어요. 무조건 문자로 시작(특수문자로 시작X)\n",
    "한글이름의 변수는 사용가능? => 가~능한\n",
    "한글이나 영문이나 컴퓨터는 유니코드로 받아보기에 똑같음\n",
    "하지만 세상 어느누구도 한글이름의 변수를 사용하지 않음\n",
    "당연히 영문자 대문자와 소문자는 다른 문자\n",
    "변수가 두 개 이상의 단어로 구성된 경우 => 프로그래밍 언어마다 몇가지 규칙이 있다\n",
    "python은 '_' 기호를 이용함 (ex: student_number = '20101123')\n",
    "이런 변수명같은 것들을 식별자(identifier)\n",
    "회사 업무나 프로젝트 같은 것을 수행하게 되면 \n",
    "Naming Rule을 정해서 프로그램을 작성하게 된다.\n",
    "'''\n",
    "\n",
    "a = 200   # ok\n",
    "# a = 300  # error => 파이썬만 이럼. 다른언어는 안그럼.(변수앞 공백)\n",
    "\n",
    "print(a) # print() 함수는 괄호안에 내용을 문자열로 출력\n"
   ]
  },
  {
   "cell_type": "code",
   "execution_count": 16,
   "id": "8ba11c9b",
   "metadata": {},
   "outputs": [
    {
     "name": "stdout",
     "output_type": "stream",
     "text": [
      "100\n",
      "3.14\n",
      "<class 'int'>\n",
      "<class 'float'>\n"
     ]
    }
   ],
   "source": [
    "'''\n",
    "1. Numeric \n",
    "숫자형 데이터 타입\n",
    "프로그램에서 일반적으로 사용하는 숫자는 정수, 실수, 복소수\n",
    "결국 Numeric Data type은 <class int>와 <class cloat>를 이용\n",
    "이 두개의 class만 존재하는건 아니고 더 많은 class가 있음\n",
    "'''\n",
    "a = 100        #정수\n",
    "b = 3.14       #실수\n",
    "c = 3.14E-10   #실수(지수표현)\n",
    "d = 0o7        #8진수(많이 사용되지는x)\n",
    "e = 0xAB       #16진수(많이 사용되지는x)\n",
    "\n",
    "print(a)      #100\n",
    "print(b)      #3.14\n",
    "\n",
    "print(type(a))        # type() 해당 객체가 어느 class로부터 파생된것인지를 알려줌\n",
    "print(type(b))"
   ]
  },
  {
   "cell_type": "code",
   "execution_count": 25,
   "id": "2a401727",
   "metadata": {},
   "outputs": [
    {
     "name": "stdout",
     "output_type": "stream",
     "text": [
      "0.75\n",
      "1\n",
      "3\n"
     ]
    }
   ],
   "source": [
    "'''\n",
    "Operator (연산자)\n",
    "+ 연산자\n",
    "+연산은 이항연산자(항이 두개다)\n",
    "프로그램에서 이항연산자의 특징은.. 같은 데이터 타입에 대해서 연산을 수행\n",
    "10 + 3.14\n",
    "위의 연산은 내부적으로 타입을 바꾸어서 실행한다.\n",
    "10 => 10.0(o) , 3.14 => 3(x) -데이터의 유실\n",
    "10.0 + 3.14 = 결과는? 연산의 데이터 타입을 따라감\n",
    "'''\n",
    "\n",
    "a = 3 / 4\n",
    "print(a)    #0이 나오는게 맞아요 (java나 c같은 다른 프로그래밍언어는 0이나옴)\n",
    "            #정수 나누기 정수라서 결과도 정수가 나와야해서 소수점 날림\n",
    "            #파이썬은 0.75로 출력\n",
    "            #그 이유는 모든 숫자 연산은 내부적으로 실수 처리(정수로 표현해도!)\n",
    "            \n",
    "a = 10 % 3  # %연산자(나머지를 구하는 연산자)\n",
    "print(a)    # 1\n",
    "\n",
    "a = 10 // 3  # //연산자(몫을 구하는 연산자)\n",
    "print(a)"
   ]
  },
  {
   "cell_type": "code",
   "execution_count": 61,
   "id": "f36d7120",
   "metadata": {},
   "outputs": [
    {
     "name": "stdout",
     "output_type": "stream",
     "text": [
      "[2, 3]\n",
      "[2]\n",
      "[2, 3, [4, 5], 6]\n",
      "[1, 2, 3]\n",
      "[1, 2, 3, [4, 5], 6]\n"
     ]
    }
   ],
   "source": [
    "'''\n",
    "2. Sequence\n",
    "순서가 있는 자료형(자료구조)\n",
    "- <class list>\n",
    "- <class tuple>\n",
    "- <class range>\n",
    "3가지를 통틀어서 시퀀스데이터타입 이라고 함\n",
    "\n",
    "<class list>\n",
    "literal : 코드에서 어떻게 표현하나요?\n",
    "'''\n",
    "a = []           # list (empty list => 가지고 있는 데이터가 없음)\n",
    "a = [1, 2, 3]    #list랑 array는 다름\\\n",
    "\n",
    "# list안에는 같은 데이터 타입만 들어오지 않음\n",
    "a = [1, 2, 3.14]\n",
    "\n",
    "# list안에는 다른 list가 들어올 수 있음 (중첩리스트)\n",
    "a = [1, 2, [3, 4], 5]\n",
    "a = []\n",
    "a = list()    # <class list> empty list 생성할 때 사용\n",
    "\n",
    "a = [1, 2, 3, [4, 5], 6]\n",
    "\n",
    "# indexing, slicing\n",
    "'''\n",
    "print(a[0])\n",
    "a[0] = 100\n",
    "print(a)\n",
    "print(a[3][0])\n",
    "print(a[5]) => error\n",
    "print(a[-1]) => 맨마지막 인덱스를 출력. 6 \n",
    "(다른언어는 마이너스 인덱스를 사용할수 없음)\n",
    "'''\n",
    "\n",
    "# slicing : 연속적인 부분집합을 만들어내는게 슬라이싱\n",
    "a = [1, 2, 3, [4, 5], 6]\n",
    "# sling 하겠다 = a[start index : end index]\n",
    "# 시작인덱스는 포함, 끝 인덱스는 노포함\n",
    "print(a[1:3])\n",
    "# slicing은 원본의 부분집합을 구하는 것이기 때문에 \n",
    "# 당연히 원본과 동일한 데이터 타입이 나옴\n",
    "print(a[1:2])\n",
    "print(a[1:])\n",
    "print(a[:3])\n",
    "print(a[:])\n"
   ]
  },
  {
   "cell_type": "code",
   "execution_count": 75,
   "id": "d3632d48",
   "metadata": {},
   "outputs": [
    {
     "name": "stdout",
     "output_type": "stream",
     "text": [
      "[1, 2, 3, 4, 5, 6]\n",
      "[1, 2, 3, 1, 2, 3, 1, 2, 3]\n"
     ]
    }
   ],
   "source": [
    "# 리스트의 연산\n",
    "# + 연산\n",
    "a = [1, 2, 3]\n",
    "b = [4, 5, 6]\n",
    "print(a+b)\n",
    "'''\n",
    "원래 + 기호는 숫자를 더하는 기호\n",
    "이 숫자를 더하는 기호인 + 에 피 연산자를 list로 사용\n",
    "이 + operator(연산자)의 의미가 변함 => 연산자 오버로딩(operator overloading)\n",
    "이 연산자 오버로딩이 발생해서 +의 의미가 연결(concatenation)\n",
    "'''\n",
    "\n",
    "a = [1, 2, 3]\n",
    "result = a*3\n",
    "print(result)"
   ]
  },
  {
   "cell_type": "code",
   "execution_count": 101,
   "id": "6882cd5e",
   "metadata": {},
   "outputs": [
    {
     "name": "stdout",
     "output_type": "stream",
     "text": [
      "[]\n",
      "[10]\n",
      "[10, 20]\n",
      "[10, 20, 30]\n",
      "[1, 2, 4, 7, 8, 9, 10]\n",
      "[1, 2, 4, 7, 8, 9, 10]\n"
     ]
    }
   ],
   "source": [
    "a = list()\n",
    "print(a)\n",
    "\n",
    "# list안에 새로운 요소 추가하기\n",
    "a.append(10) # append()는 리스트의 맨 마지막 방을 추가하고 원소를 저장하는 메서드\n",
    "print(a)\n",
    "a.append(20)\n",
    "print(a)\n",
    "\n",
    "b = list()\n",
    "b.extend([10,20,30]) # list 확장\n",
    "print(b)\n",
    "\n",
    "a = [4, 7, 10, 2, 8, 1, 9]\n",
    "# 리스트 안의 각각의 요소들을 정렬하려면?\n",
    "# 정렬의 기본은 오름차순 정렬\n",
    "# list의 sort() 기능은 원본을 정렬하고 정렬된 결과를 새롭게 복사본으로 만들지않음\n",
    "a.sort() \n",
    "print(a)\n",
    "result = sorted(a)  # sorted() = 원본은 그냥 두고 정렬된 복사본을 만듦\n",
    "print(result)\n"
   ]
  },
  {
   "cell_type": "code",
   "execution_count": 109,
   "id": "b291087e",
   "metadata": {},
   "outputs": [
    {
     "name": "stdout",
     "output_type": "stream",
     "text": [
      "140707570658144\n",
      "140707570658144\n",
      "1648450272240\n",
      "1648450272784\n",
      "1648459151744\n",
      "1648455019648\n"
     ]
    }
   ],
   "source": [
    "#특수한 함수 알고 넘어가기\n",
    "# print()\n",
    "# type()\n",
    "# id() : 메모리 주소값에 대한 hash값을 알려줌\n",
    "#hash값으로 실제 메모리 주소를 알아낼수는 없음\n",
    "#hash값을 갖고 따라갈순 있음\n",
    "\n",
    "# a = 100\n",
    "# print(id(a))    #140707570658144\n",
    "\n",
    "# c언어를 제외한 다른 프로그래밍 언어는 메모리 주소를 직접적으로 조작할 수 없도록 \n",
    "# 프로그래밍 언어가 디자인되어 있다.\n",
    "# 메모리 주소를 직접 조작하면 cracking작업을 수행할수 있다.\n",
    "# 잘못 건드리면 시스템이 날아감 (개인정보도 날아갈수 있음)\n",
    "\n",
    "\n",
    "a = 100\n",
    "b = 100\n",
    "print(id(a))\n",
    "print(id(b))\n",
    "# 위의 두개가 같음. 0~256까지는 기존에 생성된 메모리주소hash값 공용 사용\n",
    "# 숫자만 그렇고 다른 문자열은 같아도 다른 메모리주소값 가짐\n",
    "\n",
    "a = 257\n",
    "b = 257\n",
    "print(id(a))\n",
    "print(id(b))\n",
    "\n",
    "a = list()\n",
    "b = list()\n",
    "print(id(a))\n",
    "print(id(b))"
   ]
  },
  {
   "cell_type": "code",
   "execution_count": 111,
   "id": "7326f586",
   "metadata": {},
   "outputs": [
    {
     "name": "stdout",
     "output_type": "stream",
     "text": [
      "True\n",
      "True\n",
      "False\n"
     ]
    }
   ],
   "source": [
    "a = 100\n",
    "b = 100\n",
    "a == b   # 같아(true)... 틀려(false) 결과값은 논리값.\n",
    "# == 기호(연산자)는 값이 같은지를 비교하는 비교 연산자\n",
    "\n",
    "# is 연산자는 값을 비교하지 않고 메모리 주소 값을 비교(같은 객체인지를 확인)\n",
    "print(a is b)   # a=100, b=100인경우 True\n",
    "                # a=300, b=300인경우 False\n",
    "    \n",
    "a = [1, 2, 3]\n",
    "b = [1, 2, 3]\n",
    "\n",
    "print(a == b)  #True\n",
    "print(a is b)  #False"
   ]
  },
  {
   "cell_type": "code",
   "execution_count": 123,
   "id": "0118113f",
   "metadata": {},
   "outputs": [
    {
     "name": "stdout",
     "output_type": "stream",
     "text": [
      "(1, 2, 3)\n",
      "[1, 2, 3]\n"
     ]
    }
   ],
   "source": [
    "'''\n",
    "# Tuple(튜플)\n",
    "# literal => ()\n",
    "a = (1, 2, 3)   # list는 [1, 2, 3]\n",
    "a = ()          # empty tuple   cf) []\n",
    "a = tuple()     # empty tuple   cf) list()\n",
    "print(type(a))  # <class 'tuple'>\n",
    "\n",
    "a = (1, 2, 3, (4, 5), 6)   # 중첩 tuple\n",
    "a = [1, 2, (3, 4), 5]      # 가능\n",
    "a = (1, 2, [3, 4], 5)      # 가능\n",
    "\n",
    "# indexing\n",
    "a = (1, 2, 3)\n",
    "print(a[1])   # 2\n",
    "a[0] = 100   # error. 튜플은 read only. 값을 변경시킬수 없음.\n",
    "\n",
    "a = (1, 2, 3)   #누가봐도 tuple\n",
    "a = (1)         # ()의 의미가 혼동.. 연산자 우선순위의 ()인가? or tuple의 ()인가\n",
    "# 우리는 ()를 언제 사용하냐면.. 3 + 4 * 5\n",
    "# 그래서 요소(원소)가 1개인 경우 이런경우에는 다음과 같이 tuple 표현\n",
    "a = (3,)  # 요소가 1개인 튜플\n",
    "a = (3)   # 정수(class int)\n",
    "a = 1, 2, 3  #튜플은 소괄호 생략 가능. a = (1, 2, 3)\n",
    "\n",
    "a = (1, 2, [3, 4], 5)\n",
    "a[2][0] = 100   # 튜플이 read only지만 [2][0]은 리스트안의 값이라서 변경가능\n",
    "print(a)\n",
    "\n",
    "a = (1, 2, 3)\n",
    "b = (4, 5, 6)\n",
    "\n",
    "result = a + b\n",
    "print(result)    #(1, 2, 3, 4, 5, 6) (원본 안변함)\n",
    "'''\n",
    "\n",
    "a = [1, 2, 3]\n",
    "b = tuple(a)\n",
    "print(b)   # list를 이용해서 튜플함수를 쓰면 튜플로 사용가능\n",
    "\n",
    "c = (1, 2, 3)\n",
    "d = list(c)  # 튜플을 리스트화 시킴\n",
    "print(d)"
   ]
  }
 ],
 "metadata": {
  "kernelspec": {
   "display_name": "Python [conda env:data_env] *",
   "language": "python",
   "name": "conda-env-data_env-py"
  },
  "language_info": {
   "codemirror_mode": {
    "name": "ipython",
    "version": 3
   },
   "file_extension": ".py",
   "mimetype": "text/x-python",
   "name": "python",
   "nbconvert_exporter": "python",
   "pygments_lexer": "ipython3",
   "version": "3.8.12"
  }
 },
 "nbformat": 4,
 "nbformat_minor": 5
}
