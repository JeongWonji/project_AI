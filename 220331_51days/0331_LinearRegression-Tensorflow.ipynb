{
 "cells": [
  {
   "cell_type": "code",
   "execution_count": 3,
   "id": "eb1744dd",
   "metadata": {},
   "outputs": [
    {
     "name": "stdout",
     "output_type": "stream",
     "text": [
      "10.0\n",
      "40.0\n",
      "[10.0, 40.0]\n"
     ]
    }
   ],
   "source": [
    "# tensorflow에 대해서 알아보아요!\n",
    "\n",
    "import tensorflow as tf\n",
    "\n",
    "# 상수 node를 만들어요!\n",
    "node1 = tf.constant(10, dtype=tf.float32)\n",
    "node2 = tf.constant(30, dtype=tf.float32)\n",
    "\n",
    "node3 = node1 + node2\n",
    "\n",
    "# Session이라는게 필요해요! => 그래프를 실행시키기 위해서\n",
    "sess = tf.Session()\n",
    "\n",
    "print(sess.run(node1))  # graph를 실행시켜요! -> node1을 실행\n",
    "print(sess.run(node3))  # graph를 실행시켜요! -> node3을 실행\n",
    "print(sess.run([node1, node3]))"
   ]
  },
  {
   "cell_type": "code",
   "execution_count": 8,
   "id": "7831a392",
   "metadata": {},
   "outputs": [
    {
     "name": "stdout",
     "output_type": "stream",
     "text": [
      "40.0\n"
     ]
    }
   ],
   "source": [
    "# 현재 tensorflow 버전은 1.15버전이예요!\n",
    "\n",
    "import tensorflow as tf\n",
    "\n",
    "node1 = tf.placeholder(dtype=tf.float32)  # scalar\n",
    "                                          # 만약 다차원데이터가 입력될려면.. \n",
    "node2 = tf.placeholder(dtype=tf.float32)\n",
    "\n",
    "node3 = node1 + node2\n",
    "\n",
    "sess = tf.Session()\n",
    "\n",
    "result = sess.run(node3, feed_dict={node1: 10,\n",
    "                                    node2: 30})\n",
    "print(result)"
   ]
  },
  {
   "cell_type": "code",
   "execution_count": 2,
   "id": "406a3ae9",
   "metadata": {},
   "outputs": [
    {
     "name": "stdout",
     "output_type": "stream",
     "text": [
      "WARNING:tensorflow:From C:\\Users\\campusseven02\\AppData\\Local\\Temp\\ipykernel_5308\\2469112447.py:23: The name tf.placeholder is deprecated. Please use tf.compat.v1.placeholder instead.\n",
      "\n",
      "WARNING:tensorflow:From C:\\Users\\campusseven02\\AppData\\Local\\Temp\\ipykernel_5308\\2469112447.py:38: The name tf.train.GradientDescentOptimizer is deprecated. Please use tf.compat.v1.train.GradientDescentOptimizer instead.\n",
      "\n",
      "WARNING:tensorflow:From C:\\Users\\campusseven02\\AppData\\Local\\Temp\\ipykernel_5308\\2469112447.py:41: The name tf.Session is deprecated. Please use tf.compat.v1.Session instead.\n",
      "\n",
      "WARNING:tensorflow:From C:\\Users\\campusseven02\\AppData\\Local\\Temp\\ipykernel_5308\\2469112447.py:42: The name tf.global_variables_initializer is deprecated. Please use tf.compat.v1.global_variables_initializer instead.\n",
      "\n",
      "W : [[ 0.7232571 ]\n",
      " [ 0.4443673 ]\n",
      " [-0.13601375]], b : [0.62626684], loss : 6608.24365234375\n",
      "W : [[1.0003992 ]\n",
      " [0.72635067]\n",
      " [0.3016805 ]], b : [0.6303585], loss : 25.801687240600586\n",
      "W : [[0.9522276 ]\n",
      " [0.6846132 ]\n",
      " [0.38927722]], b : [0.6303585], loss : 21.881528854370117\n",
      "W : [[0.9077743 ]\n",
      " [0.64932615]\n",
      " [0.46697134]], b : [0.6303585], loss : 18.787677764892578\n",
      "W : [[0.86668617]\n",
      " [0.61952883]\n",
      " [0.5360128 ]], b : [0.6303585], loss : 16.33600425720215\n",
      "W : [[0.82855743]\n",
      " [0.5946579 ]\n",
      " [0.5973644 ]], b : [0.6303585], loss : 14.38858413696289\n",
      "W : [[0.7935471 ]\n",
      " [0.5737358 ]\n",
      " [0.65183467]], b : [0.6303585], loss : 12.840728759765625\n",
      "W : [[0.7609889]\n",
      " [0.5564545]\n",
      " [0.7003743]], b : [0.6303585], loss : 11.601733207702637\n",
      "W : [[0.73123974]\n",
      " [0.5418991 ]\n",
      " [0.7435173 ]], b : [0.6303585], loss : 10.612095832824707\n",
      "W : [[0.70371634]\n",
      " [0.5299657 ]\n",
      " [0.7819091 ]], b : [0.6303585], loss : 9.817187309265137\n"
     ]
    }
   ],
   "source": [
    "# Q1, Q2, Q3, Exam 예제를 이용해서\n",
    "# Tensorflow를 사용해서 Multiple Linear Regression을 구현해 보아요!~\n",
    "import tensorflow as tf\n",
    "import pandas as pd\n",
    "import numpy as np\n",
    "\n",
    "\n",
    "# Raw Data Loading\n",
    "df = pd.read_csv('./data/student_exam_score.csv')\n",
    "# display(df.head())\n",
    "\n",
    "# 결측치 없고, 이상치 없구요. 정규화도 필요없어요!\n",
    "# 데이터전처리 안할꺼예요!\n",
    "\n",
    "# Training Data Set\n",
    "x_data = df.drop('exam', axis=1, inplace=False)   # (25,3)\n",
    "t_data = df['exam'].values.reshape(-1,1)   # (25,1)\n",
    "\n",
    "# Prediction\n",
    "predict_data = np.array([[90, 100, 95]])   # (1, 3)\n",
    "\n",
    "# Placeholder\n",
    "X = tf.placeholder(shape=[None,3], dtype=tf.float32)\n",
    "T = tf.placeholder(shape=[None,1], dtype=tf.float32)\n",
    "\n",
    "# Weight, bias\n",
    "# W는 어떤형태여야 하나요? => (3,1) 형태여야 하고 랜덤하게 생성\n",
    "W = tf.Variable(tf.random.normal([3,1]))\n",
    "b = tf.Variable(tf.random.normal([1]))\n",
    "\n",
    "# model(hypothesis, 가설, predict model)   # y = Wx + b  => XW + b\n",
    "H = tf.matmul(X,W) + b   \n",
    "\n",
    "# loss function\n",
    "loss = tf.reduce_mean(tf.square(H-T))\n",
    "\n",
    "# train node를 생성해야 해요!\n",
    "train = tf.train.GradientDescentOptimizer(learning_rate=1e-7).minimize(loss)\n",
    "\n",
    "# Session을 생성하고 초기화를 진행\n",
    "sess = tf.Session()\n",
    "sess.run(tf.global_variables_initializer())  # 초기화 구문.\n",
    "# (그래프를 실행하기 전에 먼저 실행되어야 해요!)\n",
    "\n",
    "# 반복 학습\n",
    "for step in range(300000):\n",
    "    \n",
    "    _, W_val, b_val, loss_val = sess.run([train, W, b, loss], \n",
    "                                         feed_dict={X: x_data,\n",
    "                                                    T: t_data})\n",
    "    if step % 30000 == 0:\n",
    "        print('W : {}, b : {}, loss : {}'.format(W_val, b_val, loss_val))\n",
    "        "
   ]
  },
  {
   "cell_type": "code",
   "execution_count": 3,
   "id": "77f7d238",
   "metadata": {},
   "outputs": [
    {
     "name": "stdout",
     "output_type": "stream",
     "text": [
      "[[190.55646]]\n"
     ]
    }
   ],
   "source": [
    "# Prediction\n",
    "\n",
    "result = sess.run(H, \n",
    "                  feed_dict={X: np.array([[89, 100, 95]])})\n",
    "print(result)   # [[190.55646]]"
   ]
  }
 ],
 "metadata": {
  "kernelspec": {
   "display_name": "Python [conda env:machine_TF15] *",
   "language": "python",
   "name": "conda-env-machine_TF15-py"
  },
  "language_info": {
   "codemirror_mode": {
    "name": "ipython",
    "version": 3
   },
   "file_extension": ".py",
   "mimetype": "text/x-python",
   "name": "python",
   "nbconvert_exporter": "python",
   "pygments_lexer": "ipython3",
   "version": "3.7.13"
  }
 },
 "nbformat": 4,
 "nbformat_minor": 5
}
